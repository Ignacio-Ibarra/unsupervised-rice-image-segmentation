{
 "cells": [
  {
   "cell_type": "markdown",
   "metadata": {},
   "source": [
    "# Verificación de Errores\n",
    "\n",
    "En este notebook vamos a verificar que todas las imágenes tengan el shape correcto (250, 250, 3), que el rango de los valores se encuentre entre 0 y 255 y que no contenga valores nulos. "
   ]
  },
  {
   "cell_type": "code",
   "execution_count": 2,
   "metadata": {},
   "outputs": [],
   "source": [
    "import numpy as np\n",
    "import cv2\n",
    "import pandas as pd\n",
    "import os\n",
    "from tqdm import tqdm"
   ]
  },
  {
   "cell_type": "code",
   "execution_count": 4,
   "metadata": {},
   "outputs": [],
   "source": [
    "def get_labels_and_paths(input_folder):\n",
    "   return sorted([(dp.split(\"/\")[1],os.path.join(dp, f)) for dp, dn, filenames in os.walk('input') for f in filenames if os.path.splitext(f)[1] == '.jpg'])\n",
    "\n",
    "def img_to_numpy(path): \n",
    "    img = cv2.imread(filename=path)\n",
    "    img = cv2.cvtColor(img, cv2.COLOR_BGR2RGB)\n",
    "    return img\n",
    "\n",
    "def shape_mal(img_path:str, img_shape=(250,250,3))->bool:\n",
    "    return cv2.imread(filename=img_path).shape!=img_shape\n",
    "\n",
    "def rango_mal(img_path:str)->bool:\n",
    "    flattened = cv2.imread(filename=img_path).flatten()\n",
    "    return np.sum((flattened>=0) & (flattened<=255)) != len(flattened)\n",
    "\n",
    "def contains_nulls(img_path:str)->bool:\n",
    "    img = cv2.imread(filename=img_path)\n",
    "    return np.sum(np.isnan(img)) > 0\n",
    "\n",
    "def chequeo_completo(img_path:str)->bool:\n",
    "    return np.array([shape_mal(img_path), rango_mal(img_path), contains_nulls(img_path)])\n",
    "\n",
    "def retorno_error(booleanos)->bool:\n",
    "    return np.array(['shape mal','rango mal','contiene nulos'])[booleanos]\n",
    "\n",
    "def verificar_imagenes(all_paths:list)->dict:\n",
    "    errores = {}\n",
    "    for img_path in tqdm(all_paths):\n",
    "        booleanos = chequeo_completo(img_path)\n",
    "        if any(booleanos): \n",
    "            errores[img_path.split(\"/\")[-1]] = retorno_error(booleanos=booleanos)\n",
    "    if errores != {}:\n",
    "        return errores\n",
    "    else:\n",
    "        print(\"Ninguna imagen contiene errores\")\n",
    "        return None"
   ]
  },
  {
   "cell_type": "code",
   "execution_count": 5,
   "metadata": {},
   "outputs": [
    {
     "name": "stderr",
     "output_type": "stream",
     "text": [
      "100%|██████████| 75000/75000 [01:55<00:00, 651.68it/s]"
     ]
    },
    {
     "name": "stdout",
     "output_type": "stream",
     "text": [
      "Ninguna imagen contiene errores\n"
     ]
    },
    {
     "name": "stderr",
     "output_type": "stream",
     "text": [
      "\n"
     ]
    }
   ],
   "source": [
    "# Verificacion de errores\n",
    "\n",
    "INPUT_FOLDER = \"input/\"\n",
    "labels_and_paths = get_labels_and_paths(input_folder=INPUT_FOLDER)\n",
    "input_paths = [x[1] for x in labels_and_paths]\n",
    "\n",
    "verificar_imagenes(all_paths=input_paths)"
   ]
  }
 ],
 "metadata": {
  "kernelspec": {
   "display_name": ".venv",
   "language": "python",
   "name": "python3"
  },
  "language_info": {
   "codemirror_mode": {
    "name": "ipython",
    "version": 3
   },
   "file_extension": ".py",
   "mimetype": "text/x-python",
   "name": "python",
   "nbconvert_exporter": "python",
   "pygments_lexer": "ipython3",
   "version": "3.10.12"
  },
  "orig_nbformat": 4
 },
 "nbformat": 4,
 "nbformat_minor": 2
}
