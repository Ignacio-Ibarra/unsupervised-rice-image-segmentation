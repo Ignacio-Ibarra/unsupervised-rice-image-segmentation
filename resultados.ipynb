{
 "cells": [
  {
   "cell_type": "code",
   "execution_count": 14,
   "metadata": {},
   "outputs": [],
   "source": [
    "import scipy.stats as stats\n",
    "import pandas as pd\n",
    "\n",
    "df = pd.read_csv(\"results.txt\", sep=\",\")\n",
    "\n",
    "def kruskal(*args): \n",
    "    # Realiza la prueba de Kruskal-Wallis\n",
    "    estadistica, p_valor = stats.kruskal(*args)    \n",
    "    alpha = 0.05  # Nivel de significancia\n",
    "    if p_valor < alpha:\n",
    "        return estadistica, p_valor, \"rechaza\"\n",
    "    else:\n",
    "        return estadistica, p_valor, \"no rechaza\"\n",
    "    #     print(\"Se rechaza la hipótesis nula: hay evidencia de al menos una diferencia significativa en las medias.\")\n",
    "    # else:\n",
    "    #     print(\"No se puede rechazar la hipótesis nula: no hay evidencia de diferencia significativa en las medias.\")\n",
    "\n",
    "\n",
    "def kruskal_by(data:pd.DataFrame, group_var:str, value_cols:list): \n",
    "\n",
    "    uniques = data[group_var].unique()\n",
    "    for col in value_cols:\n",
    "        values = [data.loc[data[group_var] == u, col].to_list() for u in uniques]\n",
    "        # print(values)\n",
    "        estadistica, p_valor, kruskal_result = kruskal(*values) \n",
    "        print(f\"{group_var} kruskal test {col}: {kruskal_result} - p-value {p_valor}\")\n",
    "\n"
   ]
  },
  {
   "cell_type": "code",
   "execution_count": 15,
   "metadata": {},
   "outputs": [
    {
     "name": "stdout",
     "output_type": "stream",
     "text": [
      "Proyección kruskal test RAND: rechaza - p-value 0.0017647180725652485\n",
      "Proyección kruskal test ARAND: rechaza - p-value 0.0017647180725652485\n",
      "Proyección kruskal test VanDonguen: rechaza - p-value 0.0017647180725652563\n"
     ]
    },
    {
     "data": {
      "text/html": [
       "<div>\n",
       "<style scoped>\n",
       "    .dataframe tbody tr th:only-of-type {\n",
       "        vertical-align: middle;\n",
       "    }\n",
       "\n",
       "    .dataframe tbody tr th {\n",
       "        vertical-align: top;\n",
       "    }\n",
       "\n",
       "    .dataframe thead th {\n",
       "        text-align: right;\n",
       "    }\n",
       "</style>\n",
       "<table border=\"1\" class=\"dataframe\">\n",
       "  <thead>\n",
       "    <tr style=\"text-align: right;\">\n",
       "      <th></th>\n",
       "      <th>RAND</th>\n",
       "      <th>ARAND</th>\n",
       "      <th>VanDonguen</th>\n",
       "    </tr>\n",
       "    <tr>\n",
       "      <th>Proyección</th>\n",
       "      <th></th>\n",
       "      <th></th>\n",
       "      <th></th>\n",
       "    </tr>\n",
       "  </thead>\n",
       "  <tbody>\n",
       "    <tr>\n",
       "      <th>PCA</th>\n",
       "      <td>0.8254</td>\n",
       "      <td>0.4688</td>\n",
       "      <td>0.4629</td>\n",
       "    </tr>\n",
       "    <tr>\n",
       "      <th>UMAP</th>\n",
       "      <td>0.9872</td>\n",
       "      <td>0.9602</td>\n",
       "      <td>0.0202</td>\n",
       "    </tr>\n",
       "  </tbody>\n",
       "</table>\n",
       "</div>"
      ],
      "text/plain": [
       "              RAND   ARAND  VanDonguen\n",
       "Proyección                            \n",
       "PCA         0.8254  0.4688      0.4629\n",
       "UMAP        0.9872  0.9602      0.0202"
      ]
     },
     "execution_count": 15,
     "metadata": {},
     "output_type": "execute_result"
    }
   ],
   "source": [
    "kruskal_by(data=df, group_var=\"Proyección\", value_cols=['RAND','ARAND','VanDonguen'])\n",
    "df.groupby(\"Proyección\")[['RAND','ARAND','VanDonguen']].median()"
   ]
  },
  {
   "cell_type": "code",
   "execution_count": 16,
   "metadata": {},
   "outputs": [
    {
     "name": "stdout",
     "output_type": "stream",
     "text": [
      "Algoritmo kruskal test RAND: no rechaza - p-value 0.5688381725715809\n",
      "Algoritmo kruskal test ARAND: no rechaza - p-value 0.5688381725715809\n",
      "Algoritmo kruskal test VanDonguen: no rechaza - p-value 0.533783215075592\n"
     ]
    },
    {
     "data": {
      "text/html": [
       "<div>\n",
       "<style scoped>\n",
       "    .dataframe tbody tr th:only-of-type {\n",
       "        vertical-align: middle;\n",
       "    }\n",
       "\n",
       "    .dataframe tbody tr th {\n",
       "        vertical-align: top;\n",
       "    }\n",
       "\n",
       "    .dataframe thead th {\n",
       "        text-align: right;\n",
       "    }\n",
       "</style>\n",
       "<table border=\"1\" class=\"dataframe\">\n",
       "  <thead>\n",
       "    <tr style=\"text-align: right;\">\n",
       "      <th></th>\n",
       "      <th>RAND</th>\n",
       "      <th>ARAND</th>\n",
       "      <th>VanDonguen</th>\n",
       "    </tr>\n",
       "    <tr>\n",
       "      <th>Algoritmo</th>\n",
       "      <th></th>\n",
       "      <th></th>\n",
       "      <th></th>\n",
       "    </tr>\n",
       "  </thead>\n",
       "  <tbody>\n",
       "    <tr>\n",
       "      <th>Difuso</th>\n",
       "      <td>0.81265</td>\n",
       "      <td>0.60950</td>\n",
       "      <td>0.28665</td>\n",
       "    </tr>\n",
       "    <tr>\n",
       "      <th>Jerárquica</th>\n",
       "      <td>0.92715</td>\n",
       "      <td>0.77620</td>\n",
       "      <td>0.17190</td>\n",
       "    </tr>\n",
       "    <tr>\n",
       "      <th>Kmedias</th>\n",
       "      <td>0.90920</td>\n",
       "      <td>0.71785</td>\n",
       "      <td>0.21845</td>\n",
       "    </tr>\n",
       "  </tbody>\n",
       "</table>\n",
       "</div>"
      ],
      "text/plain": [
       "               RAND    ARAND  VanDonguen\n",
       "Algoritmo                               \n",
       "Difuso      0.81265  0.60950     0.28665\n",
       "Jerárquica  0.92715  0.77620     0.17190\n",
       "Kmedias     0.90920  0.71785     0.21845"
      ]
     },
     "execution_count": 16,
     "metadata": {},
     "output_type": "execute_result"
    }
   ],
   "source": [
    "kruskal_by(data=df, group_var=\"Algoritmo\", value_cols=['RAND','ARAND','VanDonguen'])\n",
    "df.groupby(\"Algoritmo\")[['RAND','ARAND','VanDonguen']].median()"
   ]
  },
  {
   "cell_type": "code",
   "execution_count": 17,
   "metadata": {},
   "outputs": [
    {
     "name": "stdout",
     "output_type": "stream",
     "text": [
      "Atributos kruskal test RAND: no rechaza - p-value 1.0\n",
      "Atributos kruskal test ARAND: no rechaza - p-value 1.0\n",
      "Atributos kruskal test VanDonguen: no rechaza - p-value 0.8080882235062805\n"
     ]
    },
    {
     "data": {
      "text/html": [
       "<div>\n",
       "<style scoped>\n",
       "    .dataframe tbody tr th:only-of-type {\n",
       "        vertical-align: middle;\n",
       "    }\n",
       "\n",
       "    .dataframe tbody tr th {\n",
       "        vertical-align: top;\n",
       "    }\n",
       "\n",
       "    .dataframe thead th {\n",
       "        text-align: right;\n",
       "    }\n",
       "</style>\n",
       "<table border=\"1\" class=\"dataframe\">\n",
       "  <thead>\n",
       "    <tr style=\"text-align: right;\">\n",
       "      <th></th>\n",
       "      <th>RAND</th>\n",
       "      <th>ARAND</th>\n",
       "      <th>VanDonguen</th>\n",
       "    </tr>\n",
       "    <tr>\n",
       "      <th>Atributos</th>\n",
       "      <th></th>\n",
       "      <th></th>\n",
       "      <th></th>\n",
       "    </tr>\n",
       "  </thead>\n",
       "  <tbody>\n",
       "    <tr>\n",
       "      <th>Morfológicos</th>\n",
       "      <td>0.9092</td>\n",
       "      <td>0.71785</td>\n",
       "      <td>0.21845</td>\n",
       "    </tr>\n",
       "    <tr>\n",
       "      <th>VGG-16</th>\n",
       "      <td>0.9194</td>\n",
       "      <td>0.75190</td>\n",
       "      <td>0.18490</td>\n",
       "    </tr>\n",
       "  </tbody>\n",
       "</table>\n",
       "</div>"
      ],
      "text/plain": [
       "                RAND    ARAND  VanDonguen\n",
       "Atributos                                \n",
       "Morfológicos  0.9092  0.71785     0.21845\n",
       "VGG-16        0.9194  0.75190     0.18490"
      ]
     },
     "execution_count": 17,
     "metadata": {},
     "output_type": "execute_result"
    }
   ],
   "source": [
    "kruskal_by(data=df, group_var=\"Atributos\", value_cols=['RAND','ARAND','VanDonguen'])\n",
    "df.groupby(\"Atributos\")[['RAND','ARAND','VanDonguen']].median()"
   ]
  },
  {
   "cell_type": "code",
   "execution_count": 18,
   "metadata": {},
   "outputs": [
    {
     "name": "stdout",
     "output_type": "stream",
     "text": [
      "Muestra kruskal test RAND: no rechaza - p-value 0.7523612722422827\n",
      "Muestra kruskal test ARAND: no rechaza - p-value 0.7523612722422827\n",
      "Muestra kruskal test VanDonguen: no rechaza - p-value 0.7523612722422827\n"
     ]
    },
    {
     "data": {
      "text/html": [
       "<div>\n",
       "<style scoped>\n",
       "    .dataframe tbody tr th:only-of-type {\n",
       "        vertical-align: middle;\n",
       "    }\n",
       "\n",
       "    .dataframe tbody tr th {\n",
       "        vertical-align: top;\n",
       "    }\n",
       "\n",
       "    .dataframe thead th {\n",
       "        text-align: right;\n",
       "    }\n",
       "</style>\n",
       "<table border=\"1\" class=\"dataframe\">\n",
       "  <thead>\n",
       "    <tr style=\"text-align: right;\">\n",
       "      <th></th>\n",
       "      <th>RAND</th>\n",
       "      <th>ARAND</th>\n",
       "      <th>VanDonguen</th>\n",
       "    </tr>\n",
       "    <tr>\n",
       "      <th>Muestra</th>\n",
       "      <th></th>\n",
       "      <th></th>\n",
       "      <th></th>\n",
       "    </tr>\n",
       "  </thead>\n",
       "  <tbody>\n",
       "    <tr>\n",
       "      <th>15k</th>\n",
       "      <td>0.91535</td>\n",
       "      <td>0.73665</td>\n",
       "      <td>0.20510</td>\n",
       "    </tr>\n",
       "    <tr>\n",
       "      <th>60k</th>\n",
       "      <td>0.90895</td>\n",
       "      <td>0.71700</td>\n",
       "      <td>0.21845</td>\n",
       "    </tr>\n",
       "  </tbody>\n",
       "</table>\n",
       "</div>"
      ],
      "text/plain": [
       "            RAND    ARAND  VanDonguen\n",
       "Muestra                              \n",
       "15k      0.91535  0.73665     0.20510\n",
       "60k      0.90895  0.71700     0.21845"
      ]
     },
     "execution_count": 18,
     "metadata": {},
     "output_type": "execute_result"
    }
   ],
   "source": [
    "kruskal_by(data=df, group_var=\"Muestra\", value_cols=['RAND','ARAND','VanDonguen'])\n",
    "df.groupby(\"Muestra\")[['RAND','ARAND','VanDonguen']].median()"
   ]
  },
  {
   "cell_type": "code",
   "execution_count": 19,
   "metadata": {},
   "outputs": [
    {
     "data": {
      "text/html": [
       "<div>\n",
       "<style scoped>\n",
       "    .dataframe tbody tr th:only-of-type {\n",
       "        vertical-align: middle;\n",
       "    }\n",
       "\n",
       "    .dataframe tbody tr th {\n",
       "        vertical-align: top;\n",
       "    }\n",
       "\n",
       "    .dataframe thead th {\n",
       "        text-align: right;\n",
       "    }\n",
       "</style>\n",
       "<table border=\"1\" class=\"dataframe\">\n",
       "  <thead>\n",
       "    <tr style=\"text-align: right;\">\n",
       "      <th></th>\n",
       "      <th></th>\n",
       "      <th>RAND</th>\n",
       "      <th>ARAND</th>\n",
       "      <th>VanDonguen</th>\n",
       "    </tr>\n",
       "    <tr>\n",
       "      <th>Atributos</th>\n",
       "      <th>Proyección</th>\n",
       "      <th></th>\n",
       "      <th></th>\n",
       "      <th></th>\n",
       "    </tr>\n",
       "  </thead>\n",
       "  <tbody>\n",
       "    <tr>\n",
       "      <th rowspan=\"2\" valign=\"top\">Morfológicos</th>\n",
       "      <th>PCA</th>\n",
       "      <td>0.87925</td>\n",
       "      <td>0.62405</td>\n",
       "      <td>0.32765</td>\n",
       "    </tr>\n",
       "    <tr>\n",
       "      <th>UMAP</th>\n",
       "      <td>0.94505</td>\n",
       "      <td>0.82960</td>\n",
       "      <td>0.09800</td>\n",
       "    </tr>\n",
       "    <tr>\n",
       "      <th rowspan=\"2\" valign=\"top\">VGG-16</th>\n",
       "      <th>PCA</th>\n",
       "      <td>0.81310</td>\n",
       "      <td>0.41910</td>\n",
       "      <td>0.48060</td>\n",
       "    </tr>\n",
       "    <tr>\n",
       "      <th>UMAP</th>\n",
       "      <td>0.98720</td>\n",
       "      <td>0.96020</td>\n",
       "      <td>0.02020</td>\n",
       "    </tr>\n",
       "  </tbody>\n",
       "</table>\n",
       "</div>"
      ],
      "text/plain": [
       "                            RAND    ARAND  VanDonguen\n",
       "Atributos    Proyección                              \n",
       "Morfológicos PCA         0.87925  0.62405     0.32765\n",
       "             UMAP        0.94505  0.82960     0.09800\n",
       "VGG-16       PCA         0.81310  0.41910     0.48060\n",
       "             UMAP        0.98720  0.96020     0.02020"
      ]
     },
     "execution_count": 19,
     "metadata": {},
     "output_type": "execute_result"
    }
   ],
   "source": [
    "df.groupby(['Atributos','Proyección'])[['RAND','ARAND','VanDonguen']].median()"
   ]
  }
 ],
 "metadata": {
  "kernelspec": {
   "display_name": ".venv",
   "language": "python",
   "name": "python3"
  },
  "language_info": {
   "codemirror_mode": {
    "name": "ipython",
    "version": 3
   },
   "file_extension": ".py",
   "mimetype": "text/x-python",
   "name": "python",
   "nbconvert_exporter": "python",
   "pygments_lexer": "ipython3",
   "version": "3.10.7"
  }
 },
 "nbformat": 4,
 "nbformat_minor": 2
}
